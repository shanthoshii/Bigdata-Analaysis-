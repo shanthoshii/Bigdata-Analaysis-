{
  "nbformat": 4,
  "nbformat_minor": 0,
  "metadata": {
    "colab": {
      "provenance": []
    },
    "kernelspec": {
      "name": "python3",
      "display_name": "Python 3"
    },
    "language_info": {
      "name": "python"
    }
  },
  "cells": [
    {
      "cell_type": "code",
      "source": [
        "# Install Java and Spark on Google Colab\n",
        "!apt-get install openjdk-8-jdk-headless -qq > /dev/null\n",
        "!wget -q https://archive.apache.org/dist/spark/spark-3.3.2/spark-3.3.2-bin-hadoop3.tgz\n",
        "!tar xf spark-3.3.2-bin-hadoop3.tgz\n",
        "!pip install -q findspark\n",
        "\n",
        "import os\n",
        "os.environ[\"JAVA_HOME\"] = \"/usr/lib/jvm/java-8-openjdk-amd64\"\n",
        "os.environ[\"SPARK_HOME\"] = \"/content/spark-3.3.2-bin-hadoop3\"\n",
        "\n",
        "import findspark\n",
        "findspark.init()\n"
      ],
      "metadata": {
        "id": "ocF6-ypbkk79"
      },
      "execution_count": 4,
      "outputs": []
    },
    {
      "cell_type": "code",
      "source": [
        "# Import PySpark and start a SparkSession\n",
        "from pyspark.sql import SparkSession\n",
        "spark = SparkSession.builder.master(\"local[*]\").appName(\"BigDataMLJobsAnalysis\").getOrCreate()"
      ],
      "metadata": {
        "id": "f3hmfRU4nGxD"
      },
      "execution_count": 5,
      "outputs": []
    },
    {
      "cell_type": "code",
      "source": [
        "# Load the CSV data into a Spark DataFrame\n",
        "file_path = \"/content/1000_ml_jobs_us.csv\"\n",
        "df = spark.read.csv(file_path, header=True, inferSchema=True)\n",
        "\n",
        "# Show schema and preview data\n",
        "df.printSchema()\n",
        "df.show(5)"
      ],
      "metadata": {
        "colab": {
          "base_uri": "https://localhost:8080/"
        },
        "id": "nlzWsBwynIhT",
        "outputId": "079d3f24-6684-461c-f011-a0f25d72dc7d"
      },
      "execution_count": 6,
      "outputs": [
        {
          "output_type": "stream",
          "name": "stdout",
          "text": [
            "root\n",
            " |-- _c0: string (nullable = true)\n",
            " |-- job_posted_date: string (nullable = true)\n",
            " |-- company_address_locality: string (nullable = true)\n",
            " |-- company_address_region: string (nullable = true)\n",
            " |-- company_name: string (nullable = true)\n",
            " |-- company_website: string (nullable = true)\n",
            " |-- company_description: string (nullable = true)\n",
            " |-- job_description_text: string (nullable = true)\n",
            " |-- seniority_level: string (nullable = true)\n",
            " |-- job_title: string (nullable = true)\n",
            "\n",
            "+--------------------+-------------------+------------------------+----------------------+--------------------+--------------------+--------------------+--------------------+---------------+--------------------+\n",
            "|                 _c0|    job_posted_date|company_address_locality|company_address_region|        company_name|     company_website| company_description|job_description_text|seniority_level|           job_title|\n",
            "+--------------------+-------------------+------------------------+----------------------+--------------------+--------------------+--------------------+--------------------+---------------+--------------------+\n",
            "|                   0|         2024-10-31|            Indianapolis|               Indiana|          Upper Hand|https://upperhand...|Upper Hand is the...|                NULL|           NULL|                NULL|\n",
            "|   Sports facilities| training academies|     and businesses -...|   increase custome...| and leverage rea...|                NULL|                NULL|                NULL|           NULL|                NULL|\n",
            "|Its product suite...|        memberships|     staff and facili...|                retail|      video analysis| and more. For mo...| visit upperhand....|OverviewUpper Han...|     Internship|Internship - Mach...|\n",
            "|                   1|         2025-03-14|           San Francisco|            California|              Ikigai|https://www.ikiga...|Built upon years ...|                NULL|           NULL|                NULL|\n",
            "|Unlock the power ...|               NULL|                    NULL|                  NULL|                NULL|                NULL|                NULL|                NULL|           NULL|                NULL|\n",
            "+--------------------+-------------------+------------------------+----------------------+--------------------+--------------------+--------------------+--------------------+---------------+--------------------+\n",
            "only showing top 5 rows\n",
            "\n"
          ]
        }
      ]
    },
    {
      "cell_type": "code",
      "source": [
        "# Basic data cleaning and exploration\n",
        "# Count total rows\n",
        "total_jobs = df.count()\n",
        "print(f\"Total ML Job Listings: {total_jobs}\")"
      ],
      "metadata": {
        "colab": {
          "base_uri": "https://localhost:8080/"
        },
        "id": "gExgPQDinZJ6",
        "outputId": "3d2ad7ff-a2be-4472-cb5f-196c72ca265e"
      },
      "execution_count": 7,
      "outputs": [
        {
          "output_type": "stream",
          "name": "stdout",
          "text": [
            "Total ML Job Listings: 3210\n"
          ]
        }
      ]
    },
    {
      "cell_type": "code",
      "source": [
        "# Top 10 job titles by frequency\n",
        "print(\"\\nTop 10 Job Titles:\")\n",
        "df.groupBy(\"job_title\").count().orderBy(\"count\", ascending=False).show(10, truncate=False)"
      ],
      "metadata": {
        "colab": {
          "base_uri": "https://localhost:8080/"
        },
        "id": "j7vn2XufngG_",
        "outputId": "bd775004-4fd9-49d1-b177-356176b4c579"
      },
      "execution_count": 9,
      "outputs": [
        {
          "output_type": "stream",
          "name": "stdout",
          "text": [
            "\n",
            "Top 10 Job Titles:\n",
            "+---------------------------------------------------------------------------------------------------------------------------------------------------------------------------------------------------------------------------------------------+-----+\n",
            "|job_title                                                                                                                                                                                                                                    |count|\n",
            "+---------------------------------------------------------------------------------------------------------------------------------------------------------------------------------------------------------------------------------------------+-----+\n",
            "|NULL                                                                                                                                                                                                                                         |2580 |\n",
            "|Machine Learning Engineer                                                                                                                                                                                                                    |87   |\n",
            "|Data Scientist                                                                                                                                                                                                                               |22   |\n",
            "| and serve our community                                                                                                                                                                                                                     |18   |\n",
            "| open and flexible                                                                                                                                                                                                                           |13   |\n",
            "| collect and synthesize requirements and create effective feature roadmapCode deliverables in tandem with the engineering teamAdapt standard machine learning methods to best exploit modern parallel environments (e.g. distributed clusters|12   |\n",
            "|Senior Machine Learning Engineer                                                                                                                                                                                                             |10   |\n",
            "|Machine Learning Engineer, AI (FULLY REMOTE, USA)                                                                                                                                                                                            |9    |\n",
            "|Artificial Intelligence / Data Scientist Intern (HR)                                                                                                                                                                                         |8    |\n",
            "|Machine Learning Engineer, AI Platform (FULLY REMOTE, USA ONLY)                                                                                                                                                                              |8    |\n",
            "+---------------------------------------------------------------------------------------------------------------------------------------------------------------------------------------------------------------------------------------------+-----+\n",
            "only showing top 10 rows\n",
            "\n"
          ]
        }
      ]
    },
    {
      "cell_type": "code",
      "source": [
        "#  Top 10 companies hiring the most\n",
        "print(\"\\nTop 10 Companies:\")\n",
        "df.groupBy(\"company_name\").count().orderBy(\"count\", ascending=False).show(10, truncate=False)"
      ],
      "metadata": {
        "colab": {
          "base_uri": "https://localhost:8080/"
        },
        "id": "WpEq8fJon1iL",
        "outputId": "6fa01c96-e901-4bd2-87a8-d3b3ee546336"
      },
      "execution_count": 10,
      "outputs": [
        {
          "output_type": "stream",
          "name": "stdout",
          "text": [
            "\n",
            "Top 10 Companies:\n",
            "+------------------------------------------------------------------------+-----+\n",
            "|company_name                                                            |count|\n",
            "+------------------------------------------------------------------------+-----+\n",
            "|NULL                                                                    |1295 |\n",
            "| Europe                                                                 |101  |\n",
            "|TikTok                                                                  |88   |\n",
            "| Instagram and WhatsApp further empowered billions around the world. Now|39   |\n",
            "|Meta                                                                    |39   |\n",
            "|Machine Learning Engineer                                               |29   |\n",
            "|Snap Inc.                                                               |18   |\n",
            "|Adobe                                                                   |18   |\n",
            "|Splunk                                                                  |18   |\n",
            "|DoorDash                                                                |17   |\n",
            "+------------------------------------------------------------------------+-----+\n",
            "only showing top 10 rows\n",
            "\n"
          ]
        }
      ]
    },
    {
      "cell_type": "code",
      "source": [
        "#  Top 5 states with most job listings (assuming 'Location' column has state info)\n",
        "if \"Location\" in df.columns:\n",
        "    from pyspark.sql.functions import split\n",
        "    df_states = df.withColumn(\"State\", split(col(\"Location\"), \", \").getItem(1))\n",
        "    print(\"\\nTop 5 States by Job Listings:\")\n",
        "    df_states.groupBy(\"State\").count().orderBy(\"count\", ascending=False).show(5)"
      ],
      "metadata": {
        "id": "cxUaxfgmoNYB"
      },
      "execution_count": 11,
      "outputs": []
    },
    {
      "cell_type": "code",
      "source": [
        "# Show more insights (Example: Jobs by company and job title)\n",
        "print(\"\\nJobs Count by Company and Job Title:\")\n",
        "df.groupBy(\"company_name\", \"job_title\").count().orderBy(\"count\", ascending=False).show(10, truncate=False)\n",
        "\n",
        "# Stop the Spark session\n",
        "spark.stop()"
      ],
      "metadata": {
        "colab": {
          "base_uri": "https://localhost:8080/"
        },
        "id": "m6-0A2lmoYap",
        "outputId": "17c54985-c0a0-4545-8d97-36d6410b755c"
      },
      "execution_count": 13,
      "outputs": [
        {
          "output_type": "stream",
          "name": "stdout",
          "text": [
            "\n",
            "Jobs Count by Company and Job Title:\n",
            "+------------------------------------------------------------------------+------------------------+-----+\n",
            "|company_name                                                            |job_title               |count|\n",
            "+------------------------------------------------------------------------+------------------------+-----+\n",
            "|NULL                                                                    |NULL                    |1295 |\n",
            "|TikTok                                                                  |NULL                    |88   |\n",
            "| Europe                                                                 |NULL                    |62   |\n",
            "| Instagram and WhatsApp further empowered billions around the world. Now|NULL                    |39   |\n",
            "|Meta                                                                    |NULL                    |39   |\n",
            "|Machine Learning Engineer                                               |NULL                    |29   |\n",
            "|Snap Inc.                                                               | and serve our community|18   |\n",
            "| hairy                                                                  |NULL                    |17   |\n",
            "|DoorDash                                                                |NULL                    |17   |\n",
            "| and inventions begin and end with the customer top of mind.            |NULL                    |15   |\n",
            "+------------------------------------------------------------------------+------------------------+-----+\n",
            "only showing top 10 rows\n",
            "\n"
          ]
        }
      ]
    }
  ]
}